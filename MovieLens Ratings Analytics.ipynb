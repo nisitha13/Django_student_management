{
  "nbformat": 4,
  "nbformat_minor": 0,
  "metadata": {
    "colab": {
      "provenance": [],
      "authorship_tag": "ABX9TyOoAfysNZaCnE+ORWcwMV+t",
      "include_colab_link": true
    },
    "kernelspec": {
      "name": "python3",
      "display_name": "Python 3"
    },
    "language_info": {
      "name": "python"
    }
  },
  "cells": [
    {
      "cell_type": "markdown",
      "metadata": {
        "id": "view-in-github",
        "colab_type": "text"
      },
      "source": [
        "<a href=\"https://colab.research.google.com/github/nisitha13/Django_student_management/blob/main/MovieLens%20Ratings%20Analytics.ipynb\" target=\"_parent\"><img src=\"https://colab.research.google.com/assets/colab-badge.svg\" alt=\"Open In Colab\"/></a>"
      ]
    },
    {
      "cell_type": "code",
      "execution_count": 1,
      "metadata": {
        "colab": {
          "base_uri": "https://localhost:8080/"
        },
        "id": "4bjjySKYp-JR",
        "outputId": "a306faec-7775-4539-ffd5-c55aaf543f99"
      },
      "outputs": [
        {
          "output_type": "stream",
          "name": "stdout",
          "text": [
            "tar: spark-3.4.1-bin-hadoop3.tgz: Cannot open: No such file or directory\n",
            "tar: Error is not recoverable: exiting now\n"
          ]
        }
      ],
      "source": [
        "!apt-get install openjdk-11-jdk-headless -qq > /dev/null\n",
        "!wget -q http://apache.mirrors.lucidnetworks.net/spark/spark-3.4.1/spark-3.4.1-bin-hadoop3.tgz\n",
        "!tar xf spark-3.4.1-bin-hadoop3.tgz\n",
        "!pip install -q findspark\n"
      ]
    },
    {
      "cell_type": "code",
      "source": [
        "!pip -q install pyspark==3.5.1\n"
      ],
      "metadata": {
        "id": "jQVohidHqbSJ"
      },
      "execution_count": 2,
      "outputs": []
    },
    {
      "cell_type": "code",
      "source": [
        "from pyspark.sql import SparkSession\n",
        "\n",
        "spark = SparkSession.builder.appName(\"MovieLensBigData\").getOrCreate()\n",
        "print(\"Spark version:\", spark.version)\n",
        "spark\n"
      ],
      "metadata": {
        "colab": {
          "base_uri": "https://localhost:8080/",
          "height": 237
        },
        "id": "FAacIchzqe6V",
        "outputId": "18139288-07a6-4fc7-933d-b9926a2db192"
      },
      "execution_count": 3,
      "outputs": [
        {
          "output_type": "stream",
          "name": "stdout",
          "text": [
            "Spark version: 3.5.1\n"
          ]
        },
        {
          "output_type": "execute_result",
          "data": {
            "text/plain": [
              "<pyspark.sql.session.SparkSession at 0x7cc032269350>"
            ],
            "text/html": [
              "\n",
              "            <div>\n",
              "                <p><b>SparkSession - in-memory</b></p>\n",
              "                \n",
              "        <div>\n",
              "            <p><b>SparkContext</b></p>\n",
              "\n",
              "            <p><a href=\"http://30426bf97687:4040\">Spark UI</a></p>\n",
              "\n",
              "            <dl>\n",
              "              <dt>Version</dt>\n",
              "                <dd><code>v3.5.1</code></dd>\n",
              "              <dt>Master</dt>\n",
              "                <dd><code>local[*]</code></dd>\n",
              "              <dt>AppName</dt>\n",
              "                <dd><code>MovieLensBigData</code></dd>\n",
              "            </dl>\n",
              "        </div>\n",
              "        \n",
              "            </div>\n",
              "        "
            ]
          },
          "metadata": {},
          "execution_count": 3
        }
      ]
    },
    {
      "cell_type": "code",
      "source": [
        "!wget --no-check-certificate https://files.grouplens.org/datasets/movielens/ml-100k.zip\n",
        "!unzip -q -o ml-100k.zip\n",
        "!ls -l ml-100k | head\n",
        "\n"
      ],
      "metadata": {
        "colab": {
          "base_uri": "https://localhost:8080/"
        },
        "id": "xGOHxjjSqmQY",
        "outputId": "fc4787f5-bb23-457b-ed42-bf65251637bd"
      },
      "execution_count": 6,
      "outputs": [
        {
          "output_type": "stream",
          "name": "stdout",
          "text": [
            "--2025-08-16 06:58:03--  https://files.grouplens.org/datasets/movielens/ml-100k.zip\n",
            "Resolving files.grouplens.org (files.grouplens.org)... 128.101.65.152\n",
            "Connecting to files.grouplens.org (files.grouplens.org)|128.101.65.152|:443... connected.\n",
            "WARNING: cannot verify files.grouplens.org's certificate, issued by ‘CN=R10,O=Let's Encrypt,C=US’:\n",
            "  Issued certificate has expired.\n",
            "HTTP request sent, awaiting response... 200 OK\n",
            "Length: 4924029 (4.7M) [application/zip]\n",
            "Saving to: ‘ml-100k.zip’\n",
            "\n",
            "ml-100k.zip         100%[===================>]   4.70M  20.4MB/s    in 0.2s    \n",
            "\n",
            "2025-08-16 06:58:03 (20.4 MB/s) - ‘ml-100k.zip’ saved [4924029/4924029]\n",
            "\n",
            "total 15776\n",
            "-rwxr-x--- 1 root root     716 Jul 19  2000 allbut.pl\n",
            "-rwxr-x--- 1 root root     643 Jul 19  2000 mku.sh\n",
            "-rw-r----- 1 root root    6750 Jan 29  2016 README\n",
            "-rw-r----- 1 root root 1586544 Mar  8  2001 u1.base\n",
            "-rw-r----- 1 root root  392629 Mar  8  2001 u1.test\n",
            "-rw-r----- 1 root root 1583948 Mar  8  2001 u2.base\n",
            "-rw-r----- 1 root root  395225 Mar  8  2001 u2.test\n",
            "-rw-r----- 1 root root 1582546 Mar  8  2001 u3.base\n",
            "-rw-r----- 1 root root  396627 Mar  8  2001 u3.test\n"
          ]
        }
      ]
    },
    {
      "cell_type": "code",
      "source": [
        "from pyspark.sql.types import IntegerType, StructType, StructField\n",
        "\n",
        "# Schema for ratings dataset\n",
        "ratings_schema = StructType([\n",
        "    StructField(\"userId\", IntegerType(), True),\n",
        "    StructField(\"movieId\", IntegerType(), True),\n",
        "    StructField(\"rating\", IntegerType(), True),\n",
        "    StructField(\"timestamp\", IntegerType(), True),\n",
        "])\n",
        "\n",
        "# Load the ratings file\n",
        "ratings = spark.read.csv(\"ml-100k/u.data\", sep=\"\\t\", schema=ratings_schema)\n",
        "\n",
        "# Show first 5 rows\n",
        "ratings.show(5)\n",
        "\n",
        "# Show schema\n",
        "ratings.printSchema()\n",
        "\n",
        "# Count rows\n",
        "print(\"Total ratings:\", ratings.count())\n"
      ],
      "metadata": {
        "colab": {
          "base_uri": "https://localhost:8080/"
        },
        "id": "rp4xa_m8rFl0",
        "outputId": "4a2bbc8d-7a89-4e6b-8e18-095fe2a2df4f"
      },
      "execution_count": 7,
      "outputs": [
        {
          "output_type": "stream",
          "name": "stdout",
          "text": [
            "+------+-------+------+---------+\n",
            "|userId|movieId|rating|timestamp|\n",
            "+------+-------+------+---------+\n",
            "|   196|    242|     3|881250949|\n",
            "|   186|    302|     3|891717742|\n",
            "|    22|    377|     1|878887116|\n",
            "|   244|     51|     2|880606923|\n",
            "|   166|    346|     1|886397596|\n",
            "+------+-------+------+---------+\n",
            "only showing top 5 rows\n",
            "\n",
            "root\n",
            " |-- userId: integer (nullable = true)\n",
            " |-- movieId: integer (nullable = true)\n",
            " |-- rating: integer (nullable = true)\n",
            " |-- timestamp: integer (nullable = true)\n",
            "\n",
            "Total ratings: 100000\n"
          ]
        }
      ]
    },
    {
      "cell_type": "code",
      "source": [
        "from pyspark.sql.functions import col\n",
        "\n",
        "# Load the raw movies file (pipe-separated)\n",
        "movies_raw = spark.read.csv(\"ml-100k/u.item\", sep=\"|\", inferSchema=True)\n",
        "\n",
        "# Select only first 2 columns (movieId, title)\n",
        "movies = movies_raw.select(\n",
        "    col(\"_c0\").cast(\"int\").alias(\"movieId\"),\n",
        "    col(\"_c1\").cast(\"string\").alias(\"title\")\n",
        ")\n",
        "\n",
        "# Show first few movies\n",
        "movies.show(5)\n",
        "print(\"Total movies:\", movies.count())\n"
      ],
      "metadata": {
        "colab": {
          "base_uri": "https://localhost:8080/"
        },
        "id": "gdYe-Ho9rP9D",
        "outputId": "c73d2580-7e8d-464b-e476-4c652a6562cd"
      },
      "execution_count": 8,
      "outputs": [
        {
          "output_type": "stream",
          "name": "stdout",
          "text": [
            "+-------+-----------------+\n",
            "|movieId|            title|\n",
            "+-------+-----------------+\n",
            "|      1| Toy Story (1995)|\n",
            "|      2| GoldenEye (1995)|\n",
            "|      3|Four Rooms (1995)|\n",
            "|      4|Get Shorty (1995)|\n",
            "|      5|   Copycat (1995)|\n",
            "+-------+-----------------+\n",
            "only showing top 5 rows\n",
            "\n",
            "Total movies: 1682\n"
          ]
        }
      ]
    },
    {
      "cell_type": "code",
      "source": [
        "from pyspark.sql.functions import avg, count\n",
        "\n",
        "movie_stats = (ratings\n",
        "    .groupBy(\"movieId\")\n",
        "    .agg(\n",
        "        avg(\"rating\").alias(\"avg_rating\"),\n",
        "        count(\"*\").alias(\"rating_count\")\n",
        "    ))\n",
        "\n",
        "# Keep only movies with at least 100 ratings (popular ones)\n",
        "popular_movies = movie_stats.filter(col(\"rating_count\") >= 100)\n",
        "\n",
        "result_avg = (popular_movies\n",
        "    .join(movies, on=\"movieId\", how=\"left\")\n",
        "    .orderBy(col(\"avg_rating\").desc(), col(\"rating_count\").desc()))\n",
        "\n",
        "result_avg.show(10, truncate=False)\n"
      ],
      "metadata": {
        "colab": {
          "base_uri": "https://localhost:8080/"
        },
        "id": "UhpR1u4urXIr",
        "outputId": "9a23417c-8471-4d0b-b816-7be5660ad945"
      },
      "execution_count": 9,
      "outputs": [
        {
          "output_type": "stream",
          "name": "stdout",
          "text": [
            "+-------+------------------+------------+--------------------------------+\n",
            "|movieId|avg_rating        |rating_count|title                           |\n",
            "+-------+------------------+------------+--------------------------------+\n",
            "|408    |4.491071428571429 |112         |Close Shave, A (1995)           |\n",
            "|318    |4.466442953020135 |298         |Schindler's List (1993)         |\n",
            "|169    |4.466101694915254 |118         |Wrong Trousers, The (1993)      |\n",
            "|483    |4.45679012345679  |243         |Casablanca (1942)               |\n",
            "|64     |4.445229681978798 |283         |Shawshank Redemption, The (1994)|\n",
            "|603    |4.3875598086124405|209         |Rear Window (1954)              |\n",
            "|12     |4.385767790262173 |267         |Usual Suspects, The (1995)      |\n",
            "|50     |4.3584905660377355|583         |Star Wars (1977)                |\n",
            "|178    |4.344             |125         |12 Angry Men (1957)             |\n",
            "|134    |4.292929292929293 |198         |Citizen Kane (1941)             |\n",
            "+-------+------------------+------------+--------------------------------+\n",
            "only showing top 10 rows\n",
            "\n"
          ]
        }
      ]
    },
    {
      "cell_type": "code",
      "source": [
        "popular_movies = movie_stats.filter(col(\"rating_count\") >= 100)\n"
      ],
      "metadata": {
        "id": "vZnNF5ZLue-R"
      },
      "execution_count": 12,
      "outputs": []
    },
    {
      "cell_type": "code",
      "source": [
        "result_avg = popular_movies.join(movies, on=\"movieId\", how=\"left\") \\\n",
        "                           .orderBy(col(\"avg_rating\").desc(), col(\"rating_count\").desc())\n"
      ],
      "metadata": {
        "id": "Y8IhqQxiujG5"
      },
      "execution_count": 13,
      "outputs": []
    },
    {
      "cell_type": "code",
      "source": [
        "most_rated = (movie_stats\n",
        "    .join(movies, \"movieId\", \"left\")\n",
        "    .orderBy(col(\"rating_count\").desc()))\n",
        "\n",
        "most_rated.show(10, truncate=False)\n"
      ],
      "metadata": {
        "colab": {
          "base_uri": "https://localhost:8080/"
        },
        "id": "v6rMAGLVrfDW",
        "outputId": "c2843c0f-518c-43d0-a869-0475ac7e68af"
      },
      "execution_count": 10,
      "outputs": [
        {
          "output_type": "stream",
          "name": "stdout",
          "text": [
            "+-------+------------------+------------+-----------------------------+\n",
            "|movieId|avg_rating        |rating_count|title                        |\n",
            "+-------+------------------+------------+-----------------------------+\n",
            "|50     |4.3584905660377355|583         |Star Wars (1977)             |\n",
            "|258    |3.8035363457760316|509         |Contact (1997)               |\n",
            "|100    |4.155511811023622 |508         |Fargo (1996)                 |\n",
            "|181    |4.007889546351085 |507         |Return of the Jedi (1983)    |\n",
            "|294    |3.156701030927835 |485         |Liar Liar (1997)             |\n",
            "|286    |3.656964656964657 |481         |English Patient, The (1996)  |\n",
            "|288    |3.4414225941422596|478         |Scream (1996)                |\n",
            "|1      |3.8783185840707963|452         |Toy Story (1995)             |\n",
            "|300    |3.6310904872389793|431         |Air Force One (1997)         |\n",
            "|121    |3.438228438228438 |429         |Independence Day (ID4) (1996)|\n",
            "+-------+------------------+------------+-----------------------------+\n",
            "only showing top 10 rows\n",
            "\n"
          ]
        }
      ]
    },
    {
      "cell_type": "code",
      "source": [
        "user_activity = (ratings\n",
        "    .groupBy(\"userId\")\n",
        "    .agg(count(\"*\").alias(\"num_ratings\"))\n",
        "    .orderBy(col(\"num_ratings\").desc()))\n",
        "\n",
        "user_activity.show(10)\n"
      ],
      "metadata": {
        "colab": {
          "base_uri": "https://localhost:8080/"
        },
        "id": "wsA8N8A_ri_F",
        "outputId": "b57141d3-fbbd-4d17-8046-7a86bb7d70af"
      },
      "execution_count": 11,
      "outputs": [
        {
          "output_type": "stream",
          "name": "stdout",
          "text": [
            "+------+-----------+\n",
            "|userId|num_ratings|\n",
            "+------+-----------+\n",
            "|   405|        737|\n",
            "|   655|        685|\n",
            "|    13|        636|\n",
            "|   450|        540|\n",
            "|   276|        518|\n",
            "|   416|        493|\n",
            "|   537|        490|\n",
            "|   303|        484|\n",
            "|   234|        480|\n",
            "|   393|        448|\n",
            "+------+-----------+\n",
            "only showing top 10 rows\n",
            "\n"
          ]
        }
      ]
    }
  ]
}